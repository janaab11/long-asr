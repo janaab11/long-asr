{
 "cells": [
  {
   "cell_type": "markdown",
   "id": "0e9b77ce-fc15-4b41-a954-5d0ae26fc6ce",
   "metadata": {},
   "source": [
    "Start by making sure you have the following packages in your environment:"
   ]
  },
  {
   "cell_type": "code",
   "execution_count": 25,
   "id": "8f89702a-866a-47a7-b29b-1fc07a79c2f3",
   "metadata": {},
   "outputs": [],
   "source": [
    "# ! pip install evaluate datasets transformers[torch]"
   ]
  },
  {
   "cell_type": "code",
   "execution_count": null,
   "id": "5519b71a-236a-4835-a17b-68788aaa858b",
   "metadata": {},
   "outputs": [],
   "source": [
    "MY_DATASET = \"janaab/supreme-court-speech\""
   ]
  },
  {
   "cell_type": "code",
   "execution_count": 33,
   "id": "f76d9414-b0f8-46ff-b315-ff045cfe8597",
   "metadata": {},
   "outputs": [
    {
     "name": "stderr",
     "output_type": "stream",
     "text": [
      "Using the latest cached version of the dataset since janaab/supreme-court-speech couldn't be found on the Hugging Face Hub\n",
      "Found the latest cached dataset configuration 'default' at /root/.cache/huggingface/datasets/janaab___supreme-court-speech/default/0.0.0/41c2679acab9b8ecb7f9d881e57d328c67d1e66c (last modified on Fri Aug 30 00:09:29 2024).\n"
     ]
    }
   ],
   "source": [
    "from datasets import load_dataset\n",
    "\n",
    "sc_speech = load_dataset(\n",
    "    MY_DATASET, split=\"test\"\n",
    ")"
   ]
  },
  {
   "cell_type": "code",
   "execution_count": 43,
   "id": "57a9430b-d2c9-42c6-973a-90f2c04aaab4",
   "metadata": {},
   "outputs": [],
   "source": [
    "BASE_MODEL = \"openai/whisper-small\"\n",
    "TUNED_MODEL = \"janaab/whisper-small-sc\""
   ]
  },
  {
   "cell_type": "code",
   "execution_count": 19,
   "id": "edc11631-ff24-418f-8a1a-e5c1df85970d",
   "metadata": {},
   "outputs": [
    {
     "data": {
      "text/plain": [
       "CommitInfo(commit_url='https://huggingface.co/janaab/whisper-small-dv/commit/1f395786f2fa19b936d99ce6d473dacaf487e464', commit_message='Upload config', commit_description='', oid='1f395786f2fa19b936d99ce6d473dacaf487e464', pr_url=None, pr_revision=None, pr_num=None)"
      ]
     },
     "execution_count": 19,
     "metadata": {},
     "output_type": "execute_result"
    }
   ],
   "source": [
    "# from transformers import GenerationConfig\n",
    "\n",
    "# generation_config = GenerationConfig.from_pretrained(\"openai/whisper-small\")\n",
    "\n",
    "# generation_config.push_to_hub(TUNED_MODEL)"
   ]
  },
  {
   "cell_type": "code",
   "execution_count": 44,
   "id": "1a870663-6783-4d87-b589-a707efdd5681",
   "metadata": {},
   "outputs": [],
   "source": [
    "from transformers import pipeline\n",
    "import torch\n",
    "\n",
    "if torch.cuda.is_available():\n",
    "    device = \"cuda:0\"\n",
    "    torch_dtype = torch.float16\n",
    "else:\n",
    "    device = \"cpu\"\n",
    "    torch_dtype = torch.float32\n",
    "\n",
    "pipe = pipeline(\n",
    "    \"automatic-speech-recognition\",\n",
    "    model=BASE_MODEL,\n",
    "    torch_dtype=torch_dtype,\n",
    "    device=device,\n",
    ")"
   ]
  },
  {
   "cell_type": "code",
   "execution_count": 45,
   "id": "e069577b-1e5c-43c0-a2c6-4068caf811c7",
   "metadata": {},
   "outputs": [
    {
     "name": "stderr",
     "output_type": "stream",
     "text": [
      "100%|██████████| 4465/4465 [04:48<00:00, 15.48it/s]\n"
     ]
    }
   ],
   "source": [
    "from tqdm import tqdm\n",
    "from transformers.pipelines.pt_utils import KeyDataset\n",
    "\n",
    "all_predictions = []\n",
    "\n",
    "# run streamed inference\n",
    "for prediction in tqdm(\n",
    "    pipe(\n",
    "        KeyDataset(sc_speech, \"audio\"),\n",
    "        max_new_tokens=128,\n",
    "        generate_kwargs={\"task\": \"transcribe\"},\n",
    "        batch_size=32,\n",
    "    ),\n",
    "    total=len(sc_speech),\n",
    "):\n",
    "    all_predictions.append(prediction[\"text\"])"
   ]
  },
  {
   "cell_type": "code",
   "execution_count": 46,
   "id": "75d8fce1-5feb-409b-8186-52a1f254e4ff",
   "metadata": {},
   "outputs": [
    {
     "data": {
      "text/plain": [
       "47.670784616515924"
      ]
     },
     "execution_count": 46,
     "metadata": {},
     "output_type": "execute_result"
    }
   ],
   "source": [
    "from evaluate import load\n",
    "\n",
    "wer_metric = load(\"wer\")\n",
    "\n",
    "wer_ortho = 100 * wer_metric.compute(\n",
    "    references=sc_speech[\"transcript\"], predictions=all_predictions\n",
    ")\n",
    "wer_ortho"
   ]
  },
  {
   "cell_type": "code",
   "execution_count": 47,
   "id": "214a3ad4-80a0-4d51-9bca-ec4a7b454d59",
   "metadata": {},
   "outputs": [
    {
     "data": {
      "text/plain": [
       "35.21903104148535"
      ]
     },
     "execution_count": 47,
     "metadata": {},
     "output_type": "execute_result"
    }
   ],
   "source": [
    "from transformers.models.whisper.english_normalizer import BasicTextNormalizer\n",
    "\n",
    "normalizer = BasicTextNormalizer()\n",
    "\n",
    "# compute normalised WER\n",
    "all_predictions_norm = [normalizer(pred) for pred in all_predictions]\n",
    "all_references_norm = [normalizer(label) for label in sc_speech[\"transcript\"]]\n",
    "\n",
    "# filtering step to only evaluate the samples that correspond to non-zero references\n",
    "all_predictions_norm = [\n",
    "    all_predictions_norm[i]\n",
    "    for i in range(len(all_predictions_norm))\n",
    "    if len(all_references_norm[i]) > 0\n",
    "]\n",
    "all_references_norm = [\n",
    "    all_references_norm[i]\n",
    "    for i in range(len(all_references_norm))\n",
    "    if len(all_references_norm[i]) > 0\n",
    "]\n",
    "\n",
    "wer = 100 * wer_metric.compute(\n",
    "    references=all_references_norm, predictions=all_predictions_norm\n",
    ")\n",
    "\n",
    "wer"
   ]
  }
 ],
 "metadata": {
  "kernelspec": {
   "display_name": "Python 3 (ipykernel)",
   "language": "python",
   "name": "python3"
  },
  "language_info": {
   "codemirror_mode": {
    "name": "ipython",
    "version": 3
   },
   "file_extension": ".py",
   "mimetype": "text/x-python",
   "name": "python",
   "nbconvert_exporter": "python",
   "pygments_lexer": "ipython3",
   "version": "3.10.1"
  }
 },
 "nbformat": 4,
 "nbformat_minor": 5
}
