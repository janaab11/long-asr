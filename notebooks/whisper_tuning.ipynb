{
 "cells": [
  {
   "cell_type": "markdown",
   "id": "286e525e-9c09-44f5-a6bf-e4a71f1c2ee2",
   "metadata": {},
   "source": [
    "Start by making sure you have the following packages in your environment:"
   ]
  },
  {
   "cell_type": "code",
   "execution_count": null,
   "id": "f33c511f-5638-4a79-bb37-023d0329722f",
   "metadata": {},
   "outputs": [],
   "source": [
    "# ! pip install huggingface_hub datasets evaluate jiwer transformers[torch] tensorboard librosa"
   ]
  },
  {
   "cell_type": "code",
   "execution_count": 2,
   "id": "b532535d-df5a-474c-bea3-2bd64de084af",
   "metadata": {},
   "outputs": [],
   "source": [
    "MY_DATASET = \"janaab/supreme-court-speech\""
   ]
  },
  {
   "cell_type": "code",
   "execution_count": 3,
   "id": "67779364-4653-4abf-bbef-6119532cb012",
   "metadata": {},
   "outputs": [],
   "source": [
    "BASE_MODEL = \"openai/whisper-small\"\n",
    "MY_MODEL = \"janaab/whisper-small-sc\""
   ]
  },
  {
   "cell_type": "code",
   "execution_count": 4,
   "id": "a44f4af4-68d7-4e5f-b297-1d4196848635",
   "metadata": {},
   "outputs": [
    {
     "data": {
      "text/html": [
       "<style>.output_area pre {max-height: 100px; overflow-y: scroll;}</style>"
      ],
      "text/plain": [
       "<IPython.core.display.HTML object>"
      ]
     },
     "metadata": {},
     "output_type": "display_data"
    }
   ],
   "source": [
    "from IPython.display import display, HTML\n",
    "\n",
    "# Set a maximum height for all output areas\n",
    "display(HTML('''<style>.output_area pre {max-height: 100px; overflow-y: scroll;}</style>'''))"
   ]
  },
  {
   "cell_type": "markdown",
   "id": "271ff474-9b6f-49fd-8b55-4a1be3f2e777",
   "metadata": {},
   "source": [
    "# Data Preperation"
   ]
  },
  {
   "cell_type": "markdown",
   "id": "62e93869-5a5b-45ba-9b3a-a6437f3ea01e",
   "metadata": {},
   "source": [
    "### Login to HF hub"
   ]
  },
  {
   "cell_type": "code",
   "execution_count": 5,
   "id": "7b473c87-3cc6-449a-84d0-c8c6d998a84d",
   "metadata": {},
   "outputs": [
    {
     "name": "stdout",
     "output_type": "stream",
     "text": [
      "\n",
      "    _|    _|  _|    _|    _|_|_|    _|_|_|  _|_|_|  _|      _|    _|_|_|      _|_|_|_|    _|_|      _|_|_|  _|_|_|_|\n",
      "    _|    _|  _|    _|  _|        _|          _|    _|_|    _|  _|            _|        _|    _|  _|        _|\n",
      "    _|_|_|_|  _|    _|  _|  _|_|  _|  _|_|    _|    _|  _|  _|  _|  _|_|      _|_|_|    _|_|_|_|  _|        _|_|_|\n",
      "    _|    _|  _|    _|  _|    _|  _|    _|    _|    _|    _|_|  _|    _|      _|        _|    _|  _|        _|\n",
      "    _|    _|    _|_|      _|_|_|    _|_|_|  _|_|_|  _|      _|    _|_|_|      _|        _|    _|    _|_|_|  _|_|_|_|\n",
      "\n",
      "    To login, `huggingface_hub` requires a token generated from https://huggingface.co/settings/tokens .\n"
     ]
    },
    {
     "name": "stdin",
     "output_type": "stream",
     "text": [
      "Enter your token (input will not be visible):  ········\n",
      "Add token as git credential? (Y/n)  n\n"
     ]
    },
    {
     "name": "stdout",
     "output_type": "stream",
     "text": [
      "Token is valid (permission: write).\n",
      "Your token has been saved to /root/.cache/huggingface/token\n",
      "Login successful\n"
     ]
    }
   ],
   "source": [
    "from huggingface_hub import interpreter_login\n",
    "\n",
    "interpreter_login()"
   ]
  },
  {
   "cell_type": "markdown",
   "id": "baca25a1-800a-4d70-a734-679d06864055",
   "metadata": {},
   "source": [
    "## Load Dataset"
   ]
  },
  {
   "cell_type": "code",
   "execution_count": null,
   "id": "4b26743c-9ad2-4660-93f4-a36a62f22c8e",
   "metadata": {},
   "outputs": [],
   "source": [
    "from datasets import load_dataset, DatasetDict\n",
    "\n",
    "sc_speech = DatasetDict()\n",
    "\n",
    "sc_speech[\"train\"] = load_dataset(\n",
    "    MY_DATASET, split=\"train\"\n",
    ")\n",
    "sc_speech[\"test\"] = load_dataset(\n",
    "    MY_DATASET, split=\"test\"\n",
    ")\n",
    "\n",
    "print(sc_speech)"
   ]
  },
  {
   "cell_type": "code",
   "execution_count": 7,
   "id": "7df26c3c-983a-4c0d-b51d-956d643e596a",
   "metadata": {},
   "outputs": [],
   "source": [
    "sc_speech = sc_speech.select_columns([\"audio\", \"transcript\"])"
   ]
  },
  {
   "cell_type": "markdown",
   "id": "929ee293-a259-4196-b0d8-01bfede1561a",
   "metadata": {},
   "source": [
    "## Feature processing for Whisper"
   ]
  },
  {
   "cell_type": "code",
   "execution_count": 8,
   "id": "51fe0014-5447-49a3-8b3b-d10fb8cb1fe9",
   "metadata": {},
   "outputs": [],
   "source": [
    "from transformers.models.whisper.tokenization_whisper import TO_LANGUAGE_CODE\n",
    "\n",
    "# TO_LANGUAGE_CODE"
   ]
  },
  {
   "cell_type": "code",
   "execution_count": 9,
   "id": "ba99e786-58f8-43eb-8929-ff2acc7168e2",
   "metadata": {},
   "outputs": [],
   "source": [
    "from transformers import WhisperProcessor\n",
    "\n",
    "processor = WhisperProcessor.from_pretrained(\n",
    "    BASE_MODEL, language=\"en\", task=\"transcribe\"\n",
    ")"
   ]
  },
  {
   "cell_type": "markdown",
   "id": "e839bcdd-9a68-414d-b56b-4baab2d0ffc1",
   "metadata": {},
   "source": [
    "## Process data"
   ]
  },
  {
   "cell_type": "code",
   "execution_count": 10,
   "id": "c21a66c7-757a-4661-8357-d0f58fbcc08d",
   "metadata": {},
   "outputs": [
    {
     "data": {
      "text/plain": [
       "{'audio': Audio(sampling_rate=None, mono=True, decode=True, id=None),\n",
       " 'transcript': Value(dtype='string', id=None)}"
      ]
     },
     "execution_count": 10,
     "metadata": {},
     "output_type": "execute_result"
    }
   ],
   "source": [
    "sc_speech[\"train\"].features"
   ]
  },
  {
   "cell_type": "code",
   "execution_count": 11,
   "id": "a8a0d5bc-324c-4c78-8489-743c45649863",
   "metadata": {},
   "outputs": [],
   "source": [
    "from datasets import Audio\n",
    "\n",
    "sampling_rate = processor.feature_extractor.sampling_rate\n",
    "sc_speech = sc_speech.cast_column(\"audio\", Audio(sampling_rate=sampling_rate))"
   ]
  },
  {
   "cell_type": "code",
   "execution_count": 12,
   "id": "ae3676f2-df8b-4824-844f-22fc72d57299",
   "metadata": {},
   "outputs": [],
   "source": [
    "def prepare_dataset(example):\n",
    "    audio = example[\"audio\"]\n",
    "\n",
    "    example = processor(\n",
    "        audio=audio[\"array\"],\n",
    "        sampling_rate=audio[\"sampling_rate\"],\n",
    "        text=example[\"transcript\"],\n",
    "    )\n",
    "\n",
    "    # compute input length of audio sample in seconds\n",
    "    example[\"input_length\"] = len(audio[\"array\"]) / audio[\"sampling_rate\"]\n",
    "\n",
    "    return example"
   ]
  },
  {
   "cell_type": "code",
   "execution_count": null,
   "id": "5caa1048-e302-4904-b2ba-916ac956f242",
   "metadata": {},
   "outputs": [],
   "source": [
    "sc_speech = sc_speech.map(\n",
    "    prepare_dataset, remove_columns=sc_speech.column_names[\"train\"], num_proc=1\n",
    ")"
   ]
  },
  {
   "cell_type": "code",
   "execution_count": 14,
   "id": "c593f34f-fdc9-4110-b392-c73f2b2806a9",
   "metadata": {},
   "outputs": [],
   "source": [
    "max_input_length = 30.0\n",
    "\n",
    "\n",
    "def is_audio_in_length_range(length):\n",
    "    return length < max_input_length"
   ]
  },
  {
   "cell_type": "code",
   "execution_count": null,
   "id": "aa1b0600-6bbc-42d4-816e-ffd9ad5d1caf",
   "metadata": {},
   "outputs": [],
   "source": [
    "sc_speech[\"train\"] = sc_speech[\"train\"].filter(\n",
    "    is_audio_in_length_range,\n",
    "    input_columns=[\"input_length\"],\n",
    ")"
   ]
  },
  {
   "cell_type": "code",
   "execution_count": null,
   "id": "3ad8f36d-b1b2-4b96-b5bd-485e83b90ed9",
   "metadata": {},
   "outputs": [],
   "source": [
    "sc_speech[\"train\"]"
   ]
  },
  {
   "cell_type": "markdown",
   "id": "ab8d9825-32ca-4fa0-8312-779266f065c9",
   "metadata": {},
   "source": [
    "# Training and Evaluation"
   ]
  },
  {
   "cell_type": "markdown",
   "id": "a51d5f5d-ffb4-4c44-a7dc-c55942a3544d",
   "metadata": {},
   "source": [
    "## Data Collector"
   ]
  },
  {
   "cell_type": "code",
   "execution_count": 17,
   "id": "ec1fc610-84e9-4d81-847b-fdd229b45ced",
   "metadata": {},
   "outputs": [],
   "source": [
    "import torch\n",
    "\n",
    "from dataclasses import dataclass\n",
    "from typing import Any, Dict, List, Union\n",
    "\n",
    "\n",
    "@dataclass\n",
    "class DataCollatorSpeechSeq2SeqWithPadding:\n",
    "    processor: Any\n",
    "\n",
    "    def __call__(\n",
    "        self, features: List[Dict[str, Union[List[int], torch.Tensor]]]\n",
    "    ) -> Dict[str, torch.Tensor]:\n",
    "        # split inputs and labels since they have to be of different lengths and need different padding methods\n",
    "        # first treat the audio inputs by simply returning torch tensors\n",
    "        input_features = [\n",
    "            {\"input_features\": feature[\"input_features\"][0]} for feature in features\n",
    "        ]\n",
    "        batch = self.processor.feature_extractor.pad(input_features, return_tensors=\"pt\")\n",
    "\n",
    "        # get the tokenized label sequences\n",
    "        label_features = [{\"input_ids\": feature[\"labels\"]} for feature in features]\n",
    "        # pad the labels to max length\n",
    "        labels_batch = self.processor.tokenizer.pad(label_features, return_tensors=\"pt\")\n",
    "\n",
    "        # replace padding with -100 to ignore loss correctly\n",
    "        labels = labels_batch[\"input_ids\"].masked_fill(\n",
    "            labels_batch.attention_mask.ne(1), -100\n",
    "        )\n",
    "\n",
    "        # if bos token is appended in previous tokenization step,\n",
    "        # cut bos token here as it's append later anyways\n",
    "        if (labels[:, 0] == self.processor.tokenizer.bos_token_id).all().cpu().item():\n",
    "            labels = labels[:, 1:]\n",
    "\n",
    "        batch[\"labels\"] = labels\n",
    "\n",
    "        return batch"
   ]
  },
  {
   "cell_type": "code",
   "execution_count": 18,
   "id": "459989d1-945f-43b8-bcac-1caf61833a2d",
   "metadata": {},
   "outputs": [],
   "source": [
    "data_collator = DataCollatorSpeechSeq2SeqWithPadding(processor=processor)"
   ]
  },
  {
   "cell_type": "markdown",
   "id": "62c85ef0-8f71-4a44-9ac9-8f2a83ca1bda",
   "metadata": {},
   "source": [
    "## Eval metrics"
   ]
  },
  {
   "cell_type": "code",
   "execution_count": 19,
   "id": "4216784b-3b23-4ac0-a611-af9fae9426b0",
   "metadata": {},
   "outputs": [],
   "source": [
    "import evaluate\n",
    "\n",
    "metric = evaluate.load(\"wer\")"
   ]
  },
  {
   "cell_type": "code",
   "execution_count": 20,
   "id": "c770e417-32a6-49ac-be3a-f496e7c15ab0",
   "metadata": {},
   "outputs": [],
   "source": [
    "from transformers.models.whisper.english_normalizer import BasicTextNormalizer\n",
    "\n",
    "normalizer = BasicTextNormalizer()\n",
    "\n",
    "\n",
    "def compute_metrics(pred):\n",
    "    pred_ids = pred.predictions\n",
    "    label_ids = pred.label_ids\n",
    "\n",
    "    # replace -100 with the pad_token_id\n",
    "    label_ids[label_ids == -100] = processor.tokenizer.pad_token_id\n",
    "\n",
    "    # we do not want to group tokens when computing the metrics\n",
    "    pred_str = processor.batch_decode(pred_ids, skip_special_tokens=True)\n",
    "    label_str = processor.batch_decode(label_ids, skip_special_tokens=True)\n",
    "\n",
    "    # compute orthographic wer\n",
    "    wer_ortho = 100 * metric.compute(predictions=pred_str, references=label_str)\n",
    "\n",
    "    # compute normalised WER\n",
    "    pred_str_norm = [normalizer(pred) for pred in pred_str]\n",
    "    label_str_norm = [normalizer(label) for label in label_str]\n",
    "    # filtering step to only evaluate the samples that correspond to non-zero references:\n",
    "    pred_str_norm = [\n",
    "        pred_str_norm[i] for i in range(len(pred_str_norm)) if len(label_str_norm[i]) > 0\n",
    "    ]\n",
    "    label_str_norm = [\n",
    "        label_str_norm[i]\n",
    "        for i in range(len(label_str_norm))\n",
    "        if len(label_str_norm[i]) > 0\n",
    "    ]\n",
    "\n",
    "    wer = 100 * metric.compute(predictions=pred_str_norm, references=label_str_norm)\n",
    "\n",
    "    return {\"wer_ortho\": wer_ortho, \"wer\": wer}"
   ]
  },
  {
   "cell_type": "markdown",
   "id": "9f2f1d22-743a-4f19-b51a-52e35959c797",
   "metadata": {},
   "source": [
    "## Load model checkpoint"
   ]
  },
  {
   "cell_type": "code",
   "execution_count": 21,
   "id": "6e042d18-4d8b-4e51-9a40-77775e21df9d",
   "metadata": {},
   "outputs": [],
   "source": [
    "from transformers import WhisperForConditionalGeneration\n",
    "\n",
    "model = WhisperForConditionalGeneration.from_pretrained(BASE_MODEL)"
   ]
  },
  {
   "cell_type": "code",
   "execution_count": 22,
   "id": "58c457bd-3391-40d4-8120-bdd8ee45f400",
   "metadata": {},
   "outputs": [],
   "source": [
    "# adjust dropout ratio\n",
    "model.config.dropout = 0.1"
   ]
  },
  {
   "cell_type": "code",
   "execution_count": 23,
   "id": "55e35323-ada3-4808-8e4e-d02f765378db",
   "metadata": {},
   "outputs": [],
   "source": [
    "from functools import partial\n",
    "\n",
    "# disable cache during training since it's incompatible with gradient checkpointing\n",
    "model.config.use_cache = False\n",
    "\n",
    "# set language and task for generation and re-enable cache\n",
    "model.generate = partial(\n",
    "    model.generate, language=\"en\", task=\"transcribe\", use_cache=True\n",
    ")"
   ]
  },
  {
   "cell_type": "markdown",
   "id": "313f34a2-40ce-4d06-b999-eb492e7924e1",
   "metadata": {},
   "source": [
    "## Training config"
   ]
  },
  {
   "cell_type": "code",
   "execution_count": 24,
   "id": "36a3eb4e-23c0-4075-b038-4131e2a79d64",
   "metadata": {},
   "outputs": [],
   "source": [
    "from transformers import Seq2SeqTrainingArguments\n",
    "\n",
    "training_args = Seq2SeqTrainingArguments(\n",
    "    output_dir=f'./models/{MY_MODEL}',\n",
    "    push_to_hub=False,\n",
    "    # hub_model_id=MY_MODEL,\n",
    "    \n",
    "    # training args\n",
    "    per_device_train_batch_size=64,\n",
    "    gradient_accumulation_steps=1,\n",
    "    learning_rate=1e-5,\n",
    "    lr_scheduler_type=\"linear\",\n",
    "    warmup_steps=150,\n",
    "    max_steps=1500,\n",
    "    gradient_checkpointing=True,\n",
    "    fp16=True,\n",
    "    # weight_decay=0.01,\n",
    "    # optim=\"adamw_bnb_8bit\",\n",
    "\n",
    "    # eval args\n",
    "    fp16_full_eval=True,\n",
    "    eval_strategy=\"steps\",\n",
    "    per_device_eval_batch_size=32,\n",
    "    predict_with_generate=True,\n",
    "    generation_max_length=225,\n",
    "    save_steps=250,\n",
    "    eval_steps=250,\n",
    "    logging_steps=25,\n",
    "    report_to=[\"tensorboard\"],\n",
    "    load_best_model_at_end=True,\n",
    "    metric_for_best_model=\"wer\",\n",
    "    greater_is_better=False,\n",
    ")"
   ]
  },
  {
   "cell_type": "code",
   "execution_count": null,
   "id": "c7081c7a-3056-421f-bd42-f43458efb79f",
   "metadata": {
    "collapsed": true,
    "jupyter": {
     "outputs_hidden": true
    }
   },
   "outputs": [],
   "source": [
    "from transformers import Seq2SeqTrainer, EarlyStoppingCallback\n",
    "\n",
    "early_stopping_callback = EarlyStoppingCallback(\n",
    "    early_stopping_patience=3,  # Number of evaluations to wait for improvement\n",
    "    early_stopping_threshold=0.0  # Minimum change to qualify as an improvement\n",
    ")\n",
    "\n",
    "trainer = Seq2SeqTrainer(\n",
    "    args=training_args,\n",
    "    model=model,\n",
    "    train_dataset=sc_speech[\"train\"],\n",
    "    eval_dataset=sc_speech[\"test\"],\n",
    "    data_collator=data_collator,\n",
    "    compute_metrics=compute_metrics,\n",
    "    tokenizer=processor,\n",
    "    callbacks=[early_stopping_callback]\n",
    ")"
   ]
  },
  {
   "cell_type": "markdown",
   "id": "68343b84-0cdf-470b-8fb1-ea3138725126",
   "metadata": {},
   "source": [
    "## Training loop"
   ]
  },
  {
   "cell_type": "code",
   "execution_count": null,
   "id": "b8e8e541-e084-4353-bd87-7fd970bc247e",
   "metadata": {},
   "outputs": [],
   "source": [
    "# # Clearing cache helps with VRAM fragmentation\n",
    "\n",
    "# import torch\n",
    "# torch.cuda.empty_cache()"
   ]
  },
  {
   "cell_type": "code",
   "execution_count": null,
   "id": "c2d3ddbb-61e1-433c-8e93-c0409bdfb451",
   "metadata": {},
   "outputs": [],
   "source": [
    "# # fix AccelerateState bug\n",
    "\n",
    "# ! pip install accelerate\n",
    "# from accelerate import Accelerator\n",
    "# acc = Accelerator()"
   ]
  },
  {
   "cell_type": "code",
   "execution_count": null,
   "id": "f90cd3f7-2a0d-4b3c-93e9-375cf33d6c82",
   "metadata": {
    "collapsed": true,
    "jupyter": {
     "outputs_hidden": true
    }
   },
   "outputs": [
    {
     "name": "stderr",
     "output_type": "stream",
     "text": [
      "/opt/conda/lib/python3.11/site-packages/torch/_dynamo/eval_frame.py:600: UserWarning: torch.utils.checkpoint: the use_reentrant parameter should be passed explicitly. In version 2.4 we will raise an exception if use_reentrant is not passed. use_reentrant=False is recommended, but if you need to preserve the current default behavior, you can pass use_reentrant=True. Refer to docs for more details on the differences between the two variants.\n",
      "  return fn(*args, **kwargs)\n",
      "/opt/conda/lib/python3.11/site-packages/torch/utils/checkpoint.py:295: FutureWarning: `torch.cpu.amp.autocast(args...)` is deprecated. Please use `torch.amp.autocast('cpu', args...)` instead.\n",
      "  with torch.enable_grad(), device_autocast_ctx, torch.cpu.amp.autocast(**ctx.cpu_autocast_kwargs):  # type: ignore[attr-defined]\n"
     ]
    },
    {
     "data": {
      "text/html": [
       "\n",
       "    <div>\n",
       "      \n",
       "      <progress value='159' max='1500' style='width:300px; height:20px; vertical-align: middle;'></progress>\n",
       "      [ 159/1500 18:47 < 2:40:29, 0.14 it/s, Epoch 0.97/10]\n",
       "    </div>\n",
       "    <table border=\"1\" class=\"dataframe\">\n",
       "  <thead>\n",
       " <tr style=\"text-align: left;\">\n",
       "      <th>Step</th>\n",
       "      <th>Training Loss</th>\n",
       "      <th>Validation Loss</th>\n",
       "    </tr>\n",
       "  </thead>\n",
       "  <tbody>\n",
       "  </tbody>\n",
       "</table><p>"
      ],
      "text/plain": [
       "<IPython.core.display.HTML object>"
      ]
     },
     "metadata": {},
     "output_type": "display_data"
    }
   ],
   "source": [
    "trainer.train()"
   ]
  },
  {
   "cell_type": "code",
   "execution_count": null,
   "id": "c33bc043-b65f-4e89-b84d-fb0342a068c2",
   "metadata": {},
   "outputs": [],
   "source": [
    "# Push the trained model, config, and tokenizer to the Hub\n",
    "# trainer.push_to_hub()"
   ]
  }
 ],
 "metadata": {
  "kernelspec": {
   "display_name": "Python 3 (ipykernel)",
   "language": "python",
   "name": "python3"
  },
  "language_info": {
   "codemirror_mode": {
    "name": "ipython",
    "version": 3
   },
   "file_extension": ".py",
   "mimetype": "text/x-python",
   "name": "python",
   "nbconvert_exporter": "python",
   "pygments_lexer": "ipython3",
   "version": "3.10.1"
  }
 },
 "nbformat": 4,
 "nbformat_minor": 5
}
